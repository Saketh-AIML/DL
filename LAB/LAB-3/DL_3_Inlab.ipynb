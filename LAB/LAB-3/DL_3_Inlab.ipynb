{
  "nbformat": 4,
  "nbformat_minor": 0,
  "metadata": {
    "colab": {
      "provenance": []
    },
    "kernelspec": {
      "name": "python3",
      "display_name": "Python 3"
    },
    "language_info": {
      "name": "python"
    }
  },
  "cells": [
    {
      "cell_type": "markdown",
      "source": [
        "# Implement a Python script using PyTorch to preprocess a dataset suitable for regression, including data normalization and handling missing values."
      ],
      "metadata": {
        "id": "QoMbdDMMy0qW"
      }
    },
    {
      "cell_type": "code",
      "execution_count": 1,
      "metadata": {
        "colab": {
          "base_uri": "https://localhost:8080/"
        },
        "id": "56tHSpZsyklb",
        "outputId": "c45f6717-b28c-40a1-be9a-fa0bf81cefdf"
      },
      "outputs": [
        {
          "output_type": "stream",
          "name": "stdout",
          "text": [
            "Features: tensor([[ 1.4545e+00, -5.2974e-01, -2.1274e-01, -1.7616e+00, -8.4861e-01],\n",
            "        [-1.4056e+00, -5.7796e-01, -4.1380e-02, -4.5429e-01, -7.3382e-01],\n",
            "        [-9.7347e-01, -8.9362e-01, -6.6910e-01,  2.9776e-01, -2.2277e-01],\n",
            "        [-7.6809e-01,  5.2345e-01,  3.1562e-01,  1.6837e-01, -1.0401e+00],\n",
            "        [ 6.2588e-01,  2.7147e-01, -1.9447e+00, -3.7252e-01, -2.2778e+00],\n",
            "        [ 7.1746e-01,  1.1574e+00, -2.7576e-01, -3.6183e-01,  4.7281e-01],\n",
            "        [ 9.1907e-01, -7.2524e-01,  3.3235e-02,  7.0547e-01, -2.4502e-01],\n",
            "        [ 9.1349e-18, -3.5760e-01, -6.7820e-01,  6.3078e-01,  1.0099e+00],\n",
            "        [ 1.0244e+00, -5.7104e-02, -3.2283e-01,  1.5138e-01, -8.7823e-01],\n",
            "        [ 2.6461e-01, -4.0780e-01, -7.0337e-02,  2.1819e+00, -2.8317e-01],\n",
            "        [-1.8966e-03,  4.8315e-01, -2.7188e-01, -1.9210e+00, -4.7111e-01],\n",
            "        [-5.5591e-01, -2.0549e-01, -9.9410e-01, -2.6777e+00, -2.2651e-01],\n",
            "        [ 1.1505e+00, -1.0029e-01, -2.1668e+00,  8.7651e-01, -5.7488e-01],\n",
            "        [-1.3103e+00,  4.9955e-01, -4.6760e-01, -1.1724e-01,  2.6423e+00],\n",
            "        [ 8.5687e-01,  1.0771e+00, -4.6524e-01, -1.6310e-01, -1.4833e+00],\n",
            "        [ 1.2524e-01, -1.3149e-01,  7.0019e-01,  9.9042e-01, -8.2849e-01],\n",
            "        [-4.5258e-01,  6.9786e-01,  2.7966e+00, -1.1557e-01,  3.6471e-01],\n",
            "        [ 2.7053e-01,  5.5280e-01,  3.3444e-01,  4.0044e-01, -1.3754e+00],\n",
            "        [-3.4152e-01,  1.1307e+00, -2.8284e+00, -2.4121e-02, -1.4030e-01],\n",
            "        [ 9.1349e-18,  1.1130e+00,  8.1177e-02, -7.8537e-01,  9.6861e-01],\n",
            "        [ 1.5013e+00, -6.4077e-01,  1.7878e+00, -4.8666e-02, -1.4809e+00],\n",
            "        [-9.6969e-02, -1.1452e+00,  1.4394e+00,  1.8769e+00, -1.7357e+00],\n",
            "        [ 9.1349e-18, -1.3107e+00, -9.7397e-01,  7.2642e-01, -1.3560e+00],\n",
            "        [ 9.1349e-18, -3.9217e-01, -3.4559e-01, -8.4307e-01, -1.9642e-01],\n",
            "        [-1.6949e+00,  5.1598e-01, -5.3467e-01, -1.2263e+00, -2.9394e+00],\n",
            "        [ 1.5153e+00,  1.5522e+00, -5.2487e-01, -4.4479e-01, -3.1834e-01],\n",
            "        [-2.6618e-01,  6.1444e-02, -9.0480e-01,  1.2156e+00,  6.4003e-01],\n",
            "        [ 3.8417e-01,  6.8791e-01,  2.5982e-01,  6.7882e-01, -1.0359e-01],\n",
            "        [-2.8257e-01, -3.1880e-01,  4.8239e-01,  7.0862e-01, -8.8202e-01],\n",
            "        [ 2.6943e-01, -3.2109e-02, -2.4232e-01, -9.5281e-01, -6.1681e-01],\n",
            "        [ 1.4786e+00, -2.4016e+00,  1.2663e+00,  3.4553e-01, -1.2545e+00],\n",
            "        [ 1.7368e+00,  3.1344e-01,  5.8005e-01,  1.4673e+00,  4.1944e-01]])\n",
            "Targets: tensor([ 0.4634, -1.0300, -1.2797, -0.0314,  0.8633,  1.2749,  0.1487,  0.2753,\n",
            "         0.6546, -0.2384,  0.3314, -0.1807,  0.8557,  0.0655,  1.2256, -0.2705,\n",
            "        -0.4161,  0.5137,  1.5196,  0.8251, -0.3075, -1.5196, -0.8609, -0.9742,\n",
            "        -0.3855,  2.2980,  0.1521,  0.3633, -0.4933,  0.2185, -1.3519,  1.1916])\n"
          ]
        }
      ],
      "source": [
        "import torch\n",
        "import torch.nn as nn\n",
        "import torch.optim as optim\n",
        "from torch.utils.data import DataLoader, Dataset, TensorDataset\n",
        "import numpy as np\n",
        "import pandas as pd\n",
        "from sklearn.model_selection import train_test_split\n",
        "from sklearn.preprocessing import StandardScaler\n",
        "\n",
        "# Custom PyTorch Dataset class\n",
        "class CustomDataset(Dataset):\n",
        "    def __init__(self, features, targets):\n",
        "        self.features = torch.tensor(features, dtype=torch.float32)\n",
        "        self.targets = torch.tensor(targets, dtype=torch.float32)\n",
        "\n",
        "    def __len__(self):\n",
        "        return len(self.features)\n",
        "\n",
        "    def __getitem__(self, index):\n",
        "        return self.features[index], self.targets[index]\n",
        "\n",
        "# 1. Load dataset (replace with your actual dataset path)\n",
        "def load_dataset():\n",
        "    # For demonstration, we create a synthetic dataset\n",
        "    np.random.seed(42)\n",
        "    data = np.random.randn(1000, 5)  # 1000 samples, 5 features\n",
        "    target = 2 * data[:, 0] + 3 * data[:, 1] - data[:, 2] + np.random.randn(1000) * 0.5  # Synthetic target\n",
        "    return pd.DataFrame(data, columns=[f\"feature_{i}\" for i in range(5)]), target\n",
        "# 2. Handle missing values\n",
        "def handle_missing_values(df):\n",
        "    # For simplicity, fill missing values with the mean of the column\n",
        "    df = df.fillna(df.mean())\n",
        "    return df\n",
        "# 3. Normalize data\n",
        "def normalize_data(df, target):\n",
        "    scaler = StandardScaler()\n",
        "    df_normalized = scaler.fit_transform(df)\n",
        "    target_normalized = (target - np.mean(target)) / np.std(target)\n",
        "    return df_normalized, target_normalized\n",
        "# 4. Create DataLoader\n",
        "def create_dataloader(features, targets, batch_size=32):\n",
        "    dataset = CustomDataset(features, targets)\n",
        "    dataloader = DataLoader(dataset, batch_size=batch_size, shuffle=True)\n",
        "    return dataloader\n",
        "# 5. Example usage\n",
        "if __name__ == \"__main__\":\n",
        "    # Load dataset\n",
        "    df, target = load_dataset()\n",
        "\n",
        "    # Introduce some missing values for demonstration\n",
        "    df.iloc[::10, 0] = np.nan\n",
        "    # Handle missing values\n",
        "    df = handle_missing_values(df)\n",
        "    # Normalize data\n",
        "    features, targets = normalize_data(df, target)\n",
        "    # Create DataLoader\n",
        "    dataloader = create_dataloader(features, targets, batch_size=32)\n",
        "    # Print a sample batch\n",
        "    for batch_features, batch_targets in dataloader:\n",
        "        print(\"Features:\", batch_features)\n",
        "        print(\"Targets:\", batch_targets)\n",
        "        break  # Print only the first batch\n"
      ]
    }
  ]
}